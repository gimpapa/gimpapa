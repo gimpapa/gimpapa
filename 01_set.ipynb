{
  "nbformat": 4,
  "nbformat_minor": 0,
  "metadata": {
    "colab": {
      "provenance": [],
      "collapsed_sections": [
        "C6A6GQtMxMBY",
        "wyTf0j_2xRaY",
        "OIVRM14axWCV",
        "IqvPrQmvxZxY",
        "UK8OpGlTyUmI",
        "e0ON1DLQ1ZKn"
      ],
      "toc_visible": true,
      "authorship_tag": "ABX9TyPle/+cnp6OUvnfwmGOttf3",
      "include_colab_link": true
    },
    "kernelspec": {
      "name": "python3",
      "display_name": "Python 3"
    },
    "language_info": {
      "name": "python"
    }
  },
  "cells": [
    {
      "cell_type": "markdown",
      "metadata": {
        "id": "view-in-github",
        "colab_type": "text"
      },
      "source": [
        "<a href=\"https://colab.research.google.com/github/gimpapa/gimpapa/blob/main/01_set.ipynb\" target=\"_parent\"><img src=\"https://colab.research.google.com/assets/colab-badge.svg\" alt=\"Open In Colab\"/></a>"
      ]
    },
    {
      "cell_type": "markdown",
      "source": [
        " 데이터 타입에 집합이 있지만, 리스트를 이용해 집합의 연산을 해보자."
      ],
      "metadata": {
        "id": "1rquaUsGMFbo"
      }
    },
    {
      "cell_type": "markdown",
      "source": [
        "# a와 b를 비교해서, b에 없는 a의 원소를 b에 추가하기"
      ],
      "metadata": {
        "id": "C6A6GQtMxMBY"
      }
    },
    {
      "cell_type": "code",
      "execution_count": null,
      "metadata": {
        "colab": {
          "base_uri": "https://localhost:8080/"
        },
        "id": "F5wLvzw38-Uw",
        "outputId": "3cc71c25-750a-4f9d-e31a-8b1828f9a9df"
      },
      "outputs": [
        {
          "output_type": "stream",
          "name": "stdout",
          "text": [
            "[4, 5, 6, 1, 2, 3]\n"
          ]
        }
      ],
      "source": [
        "a=[1,2,3]\n",
        "b=[4,5,6]\n",
        "\n",
        "for i in a:             # a에서 하나씩 가져와서\n",
        "  if i not in b:        # b에 '있지 않으면'\n",
        "    b.append(i)         # b에 추가\n",
        "\n",
        "print(b)"
      ]
    },
    {
      "cell_type": "code",
      "source": [
        "b.sort()\n",
        "print(b)"
      ],
      "metadata": {
        "colab": {
          "base_uri": "https://localhost:8080/"
        },
        "id": "q3GksdX0NQEX",
        "outputId": "b5e8b69a-5e08-4a4f-885b-ec57edc1f9fd"
      },
      "execution_count": null,
      "outputs": [
        {
          "output_type": "stream",
          "name": "stdout",
          "text": [
            "[1, 2, 3, 4, 5, 6]\n"
          ]
        }
      ]
    },
    {
      "cell_type": "markdown",
      "source": [
        "# 합집합: list_a와 list_b의 합집합 list_c\n"
      ],
      "metadata": {
        "id": "wyTf0j_2xRaY"
      }
    },
    {
      "cell_type": "code",
      "source": [
        "list_c=[]                           # 빈 리스트 c를 만들어서\n",
        "\n",
        "list_a=[1,1,3,3,5,5,7,7,9,9]        # a를 추가하고\n",
        "list_b=[2,2,4,4,6,6,8,8]            # b를 추가하면 합집합 c가 된다.\n",
        "\n",
        "for i in list_a:                    # a에서 하나씩 가져와서\n",
        "  if i not in list_c:               # c에 '있지 않으면'\n",
        "    list_c.append(i)                # c에 추가\n",
        "\n",
        "for j in list_b:                    # b에서 하나씩 가져와서\n",
        "  if j not in list_c:               # c에 '있지 않으면'\n",
        "    list_c.append(j)                # c에 추가\n",
        "\n",
        "list_c.sort()\n",
        "print(list_c)"
      ],
      "metadata": {
        "colab": {
          "base_uri": "https://localhost:8080/"
        },
        "id": "I89a_mJxNUvV",
        "outputId": "6bab1a1e-a0b2-4a72-a6c5-5e12784f0a6b"
      },
      "execution_count": null,
      "outputs": [
        {
          "output_type": "stream",
          "name": "stdout",
          "text": [
            "[1, 2, 3, 4, 5, 6, 7, 8, 9]\n"
          ]
        }
      ]
    },
    {
      "cell_type": "markdown",
      "source": [
        "# 교집합 : munu_a와 menu_b의 교집합 menu_c"
      ],
      "metadata": {
        "id": "OIVRM14axWCV"
      }
    },
    {
      "cell_type": "code",
      "source": [
        "menu_a=['apple','banana','grape','coffee']\n",
        "menu_b=['grape','coffee','ice cream','snack']\n",
        "\n",
        "menu_c=[]                   # 빈 리스트 c를 만들고\n",
        "                            # a와 b의 공통 원소를 저장하면 교집합이 된다.\n",
        "for i in menu_a:            # a에서 하나씩 가져와서\n",
        "  if i in menu_b:           # b에 있는 원소면\n",
        "    menu_c.append(i)        # c에 추가한다.\n",
        "\n",
        "print(menu_c)"
      ],
      "metadata": {
        "colab": {
          "base_uri": "https://localhost:8080/"
        },
        "id": "QDplToA6RArl",
        "outputId": "16a4c33f-0e64-4686-97ab-cdf2e9cabef8"
      },
      "execution_count": null,
      "outputs": [
        {
          "output_type": "stream",
          "name": "stdout",
          "text": [
            "['grape', 'coffee']\n"
          ]
        }
      ]
    },
    {
      "cell_type": "markdown",
      "source": [
        "# 차집합 : munu_a와 menu_b의 차집합 menu_d\n"
      ],
      "metadata": {
        "id": "IqvPrQmvxZxY"
      }
    },
    {
      "cell_type": "code",
      "source": [
        "menu_a=['apple','banana','grape','coffee']\n",
        "menu_b=['grape','coffee','ice cream','snack']\n",
        "\n",
        "menu_d=menu_a.copy()            # menu_a가 변경되지 않게 copy()를 이용\n",
        "                                # menu_d=menu_a 이렇게 하면 menu_a 값이 변경된다.\n",
        "print('원래의 메뉴는: ', menu_d)"
      ],
      "metadata": {
        "colab": {
          "base_uri": "https://localhost:8080/"
        },
        "id": "2eG6YHCHXsti",
        "outputId": "79007c23-f12e-4e20-afe4-7d1ca4a8af9f"
      },
      "execution_count": null,
      "outputs": [
        {
          "output_type": "stream",
          "name": "stdout",
          "text": [
            "원래의 메뉴는:  ['apple', 'banana', 'grape', 'coffee']\n"
          ]
        }
      ]
    },
    {
      "cell_type": "code",
      "source": [
        "for i in menu_b:        # b에서 하나씩 가져와서\n",
        "  if i in menu_d:       # d에 있는 메뉴면 즉, a(=d)와 b의 공통 메뉴면\n",
        "    print(i)            \n",
        "    menu_d.remove(i)    # d에서 지운다.\n",
        "\n",
        "                        # for문에 menu_d를 사용하지 말자.\n",
        "                        # for문 내에서 menu_d를 바꾸기 때문에\n",
        "                        # for문이 원하는대로 작동하지 않는다.\n",
        "  \n",
        "print('공통 메뉴를 빼고 나면: ', menu_d)"
      ],
      "metadata": {
        "colab": {
          "base_uri": "https://localhost:8080/"
        },
        "id": "TmjiADKsTGGU",
        "outputId": "118f734b-08b8-4b5a-e62c-9eae8008f50e"
      },
      "execution_count": null,
      "outputs": [
        {
          "output_type": "stream",
          "name": "stdout",
          "text": [
            "grape\n",
            "coffee\n",
            "공통 메뉴를 빼고 나면:  ['apple', 'banana']\n"
          ]
        }
      ]
    },
    {
      "cell_type": "markdown",
      "source": [
        "# 합집합 함수 만들기"
      ],
      "metadata": {
        "id": "UK8OpGlTyUmI"
      }
    },
    {
      "cell_type": "code",
      "source": [
        "def union(a,b):         # a와 b를 받는다.\n",
        "\n",
        "  c=[]                  # 빈 리스트 c를 만든다.\n",
        "\n",
        "  for i in a:\n",
        "    if i not in b:\n",
        "      c.append(i)\n",
        "\n",
        "  c=c+b\n",
        "  \n",
        "  d=set(c)              # 집합으로 데이터 타입을 변경해 중복을 제거한다.\n",
        "  c=list(d)             # 다시 리스트로 데이터 타입을 변경한다. \n",
        "\n",
        "  c.sort\n",
        "  return c"
      ],
      "metadata": {
        "id": "3fPSLKcIZL-R"
      },
      "execution_count": null,
      "outputs": []
    },
    {
      "cell_type": "code",
      "source": [
        "a=[1,1,3,3,5,5,7,7,9,9]\n",
        "b=[2,2,4,4,1,1,5,5,7,7]\n",
        "\n",
        "print(union(a,b))"
      ],
      "metadata": {
        "colab": {
          "base_uri": "https://localhost:8080/"
        },
        "id": "dlV-j2hrzK13",
        "outputId": "1d1bd4be-5bde-422a-ea2c-f3d3ea4e2135"
      },
      "execution_count": null,
      "outputs": [
        {
          "output_type": "stream",
          "name": "stdout",
          "text": [
            "[1, 2, 3, 4, 5, 7, 9]\n"
          ]
        }
      ]
    },
    {
      "cell_type": "markdown",
      "source": [
        "# 교집합 함수 만들기"
      ],
      "metadata": {
        "id": "v8TMIzjz0n1n"
      }
    },
    {
      "cell_type": "code",
      "source": [
        "def intersection(a,b):\n",
        "\n",
        "  c=[]\n",
        "\n",
        "  for i in a:\n",
        "    if i in b:\n",
        "      c.append(i)\n",
        "  \n",
        "  d=set(c)\n",
        "  c=list(d)\n",
        "\n",
        "  c.sort()\n",
        "  return c"
      ],
      "metadata": {
        "id": "fvLSZ68SzYJ3"
      },
      "execution_count": null,
      "outputs": []
    },
    {
      "cell_type": "code",
      "source": [
        "a=[1,1,3,3,5,5,7,7,9,9]\n",
        "b=[2,2,4,4,1,1,5,5,7,7]\n",
        "\n",
        "print(intersection(a,b))"
      ],
      "metadata": {
        "colab": {
          "base_uri": "https://localhost:8080/"
        },
        "id": "2QcPtzWo1Dau",
        "outputId": "c08fa119-028b-4a62-f6ed-bed9798a6b28"
      },
      "execution_count": null,
      "outputs": [
        {
          "output_type": "stream",
          "name": "stdout",
          "text": [
            "[1, 5, 7]\n"
          ]
        }
      ]
    },
    {
      "cell_type": "markdown",
      "source": [
        "# 차집합 함수 만들기"
      ],
      "metadata": {
        "id": "e0ON1DLQ1ZKn"
      }
    },
    {
      "cell_type": "code",
      "source": [
        "def complement(a,b):\n",
        "\n",
        "  c=a.copy()\n",
        "\n",
        "  for i in b:\n",
        "    if i in a:\n",
        "      c.remove(i)\n",
        "  \n",
        "  d=set(c)\n",
        "  c=list(d)\n",
        "\n",
        "  return c"
      ],
      "metadata": {
        "id": "Zx4v6_cB1Fz-"
      },
      "execution_count": null,
      "outputs": []
    },
    {
      "cell_type": "code",
      "source": [
        "a=[1,1,3,3,5,5,7,7,9,9]\n",
        "b=[2,2,4,4,1,1,5,5,7,7]\n",
        "\n",
        "print('a-b= ',complement(a,b))\n",
        "print('b-a= ',complement(b,a))"
      ],
      "metadata": {
        "colab": {
          "base_uri": "https://localhost:8080/"
        },
        "id": "8dRYIUi92JYe",
        "outputId": "ff1e18f6-9f2c-4674-dc23-ea5ce3419d2e"
      },
      "execution_count": null,
      "outputs": [
        {
          "output_type": "stream",
          "name": "stdout",
          "text": [
            "a-b=  [9, 3]\n",
            "b-a=  [2, 4]\n"
          ]
        }
      ]
    },
    {
      "cell_type": "markdown",
      "source": [
        "# 세 개 이상의 합집합 함수 만들기"
      ],
      "metadata": {
        "id": "5ZJ6p0ygtGMp"
      }
    },
    {
      "cell_type": "code",
      "source": [
        "def unions(*lists):     # *은 여러 개를 받을 수 있게 한다.\n",
        "\n",
        "    u=lists[0].copy()   # 첫번째[0] 리스트를 복사해서 u에 담는다.\n",
        "\n",
        "    for i in lists[1:]: # 두번째[1] 리스트부터 가져온다.\n",
        "        u=union(u,i)    # 위에서 합집합 만드는 함수 union을 쓴다.\n",
        "    \n",
        "    return u"
      ],
      "metadata": {
        "id": "-8AacSva2NC2"
      },
      "execution_count": null,
      "outputs": []
    },
    {
      "cell_type": "code",
      "source": [
        "n1=[1,1,2,2,3,3]\n",
        "n2=[4,4,5,5,6,6]\n",
        "n3=[7,7,8,8,9,9]\n",
        "n4=[0,0,123,456]\n",
        "\n",
        "numbs=unions(n1,n2,n3,n4)\n",
        "print(numbs)"
      ],
      "metadata": {
        "colab": {
          "base_uri": "https://localhost:8080/"
        },
        "id": "U9BaLp9GuWuO",
        "outputId": "1f46903d-3110-4666-c5f8-61347b9900af"
      },
      "execution_count": null,
      "outputs": [
        {
          "output_type": "stream",
          "name": "stdout",
          "text": [
            "[0, 1, 2, 3, 4, 5, 6, 7, 8, 9, 456, 123]\n"
          ]
        }
      ]
    },
    {
      "cell_type": "markdown",
      "source": [
        "# 세 개 이상의 교집합 함수 만들기"
      ],
      "metadata": {
        "id": "lPfzTAdx0qOZ"
      }
    },
    {
      "cell_type": "code",
      "source": [
        "def intersections(*lists):          # 리스트를 여러개(*) 받는다.\n",
        "    inter=lists[0].copy()           # 첫번째[0] 리스트를 복사해어 inter에 넣는다.\n",
        "\n",
        "    for n in lists[1:]:             # 두번째[1] 리스트부터 하나씩 꺼내서\n",
        "        inter=intersection(inter,n) # inter와 공통되는 원소만 남긴다. 위에서 intersection 함수로 만든 내용임.\n",
        "    return inter"
      ],
      "metadata": {
        "id": "wUAH0Ffqu0wn"
      },
      "execution_count": null,
      "outputs": []
    },
    {
      "cell_type": "code",
      "source": [
        "ni_1=[1,1,2,2,3,3]\n",
        "ni_2=[4,4,5,5,6,6,1,1]\n",
        "ni_3=[7,7,8,8,9,9,1]\n",
        "ni_4=[0,0,123,456,1]\n",
        "\n",
        "ni_s=intersections(ni_1,ni_2,ni_3,ni_4)\n",
        "print(ni_s)"
      ],
      "metadata": {
        "colab": {
          "base_uri": "https://localhost:8080/"
        },
        "id": "q8sTtN8q15iA",
        "outputId": "82cfc735-4dd0-4b77-d7bb-326d03f92e1a"
      },
      "execution_count": null,
      "outputs": [
        {
          "output_type": "stream",
          "name": "stdout",
          "text": [
            "[1]\n"
          ]
        }
      ]
    },
    {
      "cell_type": "code",
      "source": [],
      "metadata": {
        "id": "VvgqqZHp2RnO"
      },
      "execution_count": null,
      "outputs": []
    },
    {
      "cell_type": "code",
      "source": [],
      "metadata": {
        "id": "E6vJYi4iTeWK"
      },
      "execution_count": null,
      "outputs": []
    }
  ]
}