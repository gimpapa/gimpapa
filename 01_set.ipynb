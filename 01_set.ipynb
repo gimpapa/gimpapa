{
  "nbformat": 4,
  "nbformat_minor": 0,
  "metadata": {
    "colab": {
      "provenance": [],
      "collapsed_sections": [
        "C6A6GQtMxMBY",
        "wyTf0j_2xRaY",
        "OIVRM14axWCV",
        "IqvPrQmvxZxY",
        "UK8OpGlTyUmI",
        "e0ON1DLQ1ZKn"
      ],
      "authorship_tag": "ABX9TyPooHD6fAdCWMyPDrbi8eJj",
      "include_colab_link": true
    },
    "kernelspec": {
      "name": "python3",
      "display_name": "Python 3"
    },
    "language_info": {
      "name": "python"
    }
  },
  "cells": [
    {
      "cell_type": "markdown",
      "metadata": {
        "id": "view-in-github",
        "colab_type": "text"
      },
      "source": [
        "<a href=\"https://colab.research.google.com/github/gimpapa/middle_school_math_with_python/blob/main/01_set.ipynb\" target=\"_parent\"><img src=\"https://colab.research.google.com/assets/colab-badge.svg\" alt=\"Open In Colab\"/></a>"
      ]
    },
    {
      "cell_type": "markdown",
      "source": [
        "# Set operations using [list]"
      ],
      "metadata": {
        "id": "1rquaUsGMFbo"
      }
    },
    {
      "cell_type": "markdown",
      "source": [
        "# 0. Compare 'a' and 'b'. Add elements of 'a' to 'b' that are not in 'b'"
      ],
      "metadata": {
        "id": "C6A6GQtMxMBY"
      }
    },
    {
      "cell_type": "code",
      "execution_count": 4,
      "metadata": {
        "colab": {
          "base_uri": "https://localhost:8080/"
        },
        "id": "F5wLvzw38-Uw",
        "outputId": "0aaa9098-66e1-42e8-cc14-e78cf9aa48b9"
      },
      "outputs": [
        {
          "output_type": "stream",
          "name": "stdout",
          "text": [
            "[4, 5, 6, 1, 2, 3]\n"
          ]
        }
      ],
      "source": [
        "a=[1,2,3]\n",
        "b=[4,5,6]\n",
        "\n",
        "for i in a:             # take one by one from 'a'\n",
        "  if i not in b:        # that are not in 'b'\n",
        "    b.append(i)         # add to 'b'\n",
        "\n",
        "print(b)"
      ]
    },
    {
      "cell_type": "code",
      "source": [
        "b.sort()\n",
        "print(b)"
      ],
      "metadata": {
        "colab": {
          "base_uri": "https://localhost:8080/"
        },
        "id": "q3GksdX0NQEX",
        "outputId": "8a810b1a-5837-4ba3-8c19-c8674dc27cc3"
      },
      "execution_count": 5,
      "outputs": [
        {
          "output_type": "stream",
          "name": "stdout",
          "text": [
            "[1, 2, 3, 4, 5, 6]\n"
          ]
        }
      ]
    },
    {
      "cell_type": "markdown",
      "source": [
        "# 1. Union"
      ],
      "metadata": {
        "id": "wyTf0j_2xRaY"
      }
    },
    {
      "cell_type": "code",
      "source": [
        "list_c=[]                           # An empty list 'c'\n",
        "\n",
        "list_a=[1,1,3,3,5,5,7,7,9,9]        \n",
        "list_b=[2,2,4,4,6,6,8,8]            \n",
        "\n",
        "for i in list_a:                    \n",
        "  if i not in list_c:               \n",
        "    list_c.append(i)               \n",
        "\n",
        "for j in list_b:                   \n",
        "  if j not in list_c:               \n",
        "    list_c.append(j)               \n",
        "\n",
        "list_c.sort()\n",
        "print(list_c)"
      ],
      "metadata": {
        "colab": {
          "base_uri": "https://localhost:8080/"
        },
        "id": "I89a_mJxNUvV",
        "outputId": "d660ebfb-a819-4ab7-d56c-e5a99a1f14bc"
      },
      "execution_count": 6,
      "outputs": [
        {
          "output_type": "stream",
          "name": "stdout",
          "text": [
            "[1, 2, 3, 4, 5, 6, 7, 8, 9]\n"
          ]
        }
      ]
    },
    {
      "cell_type": "markdown",
      "source": [
        "# 2. Intersection"
      ],
      "metadata": {
        "id": "OIVRM14axWCV"
      }
    },
    {
      "cell_type": "code",
      "source": [
        "menu_a=['apple','banana','grape','coffee']\n",
        "menu_b=['grape','coffee','ice cream','snack']\n",
        "\n",
        "menu_c=[]                   # creat an empty list 'menu_c'.\n",
        "                            # Storing the common elements of 'menu_a' and 'menu_b'\n",
        "for i in menu_a:            # results in an intersection.\n",
        "  if i in menu_b:           \n",
        "    menu_c.append(i)        \n",
        "\n",
        "print(menu_c)"
      ],
      "metadata": {
        "colab": {
          "base_uri": "https://localhost:8080/"
        },
        "id": "QDplToA6RArl",
        "outputId": "45e2df7a-79b7-493d-dc4f-a3eba19b6076"
      },
      "execution_count": 7,
      "outputs": [
        {
          "output_type": "stream",
          "name": "stdout",
          "text": [
            "['grape', 'coffee']\n"
          ]
        }
      ]
    },
    {
      "cell_type": "markdown",
      "source": [
        "# 3. Difference"
      ],
      "metadata": {
        "id": "IqvPrQmvxZxY"
      }
    },
    {
      "cell_type": "code",
      "source": [
        "menu_a=['apple','banana','grape','coffee']\n",
        "menu_b=['grape','coffee','ice cream','snack']\n",
        "\n",
        "menu_d=menu_a.copy()            # Using copy() function so that 'menu_a' does not change.\n",
        "                                # \"menu_d=menu_a\" will change 'menu_a'.\n",
        "print('original menu_a: ', menu_d)"
      ],
      "metadata": {
        "colab": {
          "base_uri": "https://localhost:8080/"
        },
        "id": "2eG6YHCHXsti",
        "outputId": "73a63618-c3f4-4236-fdae-d74fdc675e4a"
      },
      "execution_count": 8,
      "outputs": [
        {
          "output_type": "stream",
          "name": "stdout",
          "text": [
            "original menu_a:  ['apple', 'banana', 'grape', 'coffee']\n"
          ]
        }
      ]
    },
    {
      "cell_type": "code",
      "source": [
        "for i in menu_b:        # Take one by one from 'menu_b'\n",
        "  if i in menu_d:       # that are in 'menu_d'\n",
        "    print(i)            \n",
        "    menu_d.remove(i)    # Delete from 'menu_d'\n",
        "\n",
        "                        # Do no use 'menu_d' for 'for syntax'.\n",
        "                        # because 'menu_d' changed inside the 'for syntax'\n",
        "                        # it dose not work the way you want.\n",
        "  \n",
        "print('After removing the common menu: ', menu_d)"
      ],
      "metadata": {
        "colab": {
          "base_uri": "https://localhost:8080/"
        },
        "id": "TmjiADKsTGGU",
        "outputId": "d3e83a69-acb0-4cd2-c5b7-bdb94dff604c"
      },
      "execution_count": 9,
      "outputs": [
        {
          "output_type": "stream",
          "name": "stdout",
          "text": [
            "grape\n",
            "coffee\n",
            "After removing the common menu:  ['apple', 'banana']\n"
          ]
        }
      ]
    },
    {
      "cell_type": "markdown",
      "source": [
        "# 4. Creat a union function."
      ],
      "metadata": {
        "id": "UK8OpGlTyUmI"
      }
    },
    {
      "cell_type": "code",
      "source": [
        "def union(a,b):         # Take over 'a' and 'b'.\n",
        "\n",
        "  c=[]                  # An empty list 'c'\n",
        "\n",
        "  for i in a:\n",
        "    if i not in b:\n",
        "      c.append(i)\n",
        "\n",
        "  c=c+b\n",
        "  \n",
        "  d=set(c)              # Remove duplicates by changing the data type to a set.\n",
        "  c=list(d)             # Back to the list. \n",
        "\n",
        "  c.sort\n",
        "  return c"
      ],
      "metadata": {
        "id": "3fPSLKcIZL-R"
      },
      "execution_count": 10,
      "outputs": []
    },
    {
      "cell_type": "code",
      "source": [
        "a=[1,1,3,3,5,5,7,7,9,9]\n",
        "b=[2,2,4,4,1,1,5,5,7,7]\n",
        "\n",
        "print(union(a,b))"
      ],
      "metadata": {
        "colab": {
          "base_uri": "https://localhost:8080/"
        },
        "id": "dlV-j2hrzK13",
        "outputId": "075cd364-7abc-428b-dc46-f8ac0f4a9f94"
      },
      "execution_count": 11,
      "outputs": [
        {
          "output_type": "stream",
          "name": "stdout",
          "text": [
            "[1, 2, 3, 4, 5, 7, 9]\n"
          ]
        }
      ]
    },
    {
      "cell_type": "markdown",
      "source": [
        "# 5. Creat an intersection function."
      ],
      "metadata": {
        "id": "v8TMIzjz0n1n"
      }
    },
    {
      "cell_type": "code",
      "source": [
        "def intersection(a,b):\n",
        "\n",
        "  c=[]\n",
        "\n",
        "  for i in a:\n",
        "    if i in b:\n",
        "      c.append(i)\n",
        "  \n",
        "  d=set(c)\n",
        "  c=list(d)\n",
        "\n",
        "  c.sort()\n",
        "  return c"
      ],
      "metadata": {
        "id": "fvLSZ68SzYJ3"
      },
      "execution_count": 12,
      "outputs": []
    },
    {
      "cell_type": "code",
      "source": [
        "a=[1,1,3,3,5,5,7,7,9,9]\n",
        "b=[2,2,4,4,1,1,5,5,7,7]\n",
        "\n",
        "print(intersection(a,b))"
      ],
      "metadata": {
        "colab": {
          "base_uri": "https://localhost:8080/"
        },
        "id": "2QcPtzWo1Dau",
        "outputId": "f0ba5f6a-0238-482e-a51f-a8337f306e85"
      },
      "execution_count": 13,
      "outputs": [
        {
          "output_type": "stream",
          "name": "stdout",
          "text": [
            "[1, 5, 7]\n"
          ]
        }
      ]
    },
    {
      "cell_type": "markdown",
      "source": [
        "# 6. Creat a difference function."
      ],
      "metadata": {
        "id": "e0ON1DLQ1ZKn"
      }
    },
    {
      "cell_type": "code",
      "source": [
        "def complement(a,b):\n",
        "\n",
        "  c=a.copy()\n",
        "\n",
        "  for i in b:\n",
        "    if i in a:\n",
        "      c.remove(i)\n",
        "  \n",
        "  d=set(c)\n",
        "  c=list(d)\n",
        "\n",
        "  return c"
      ],
      "metadata": {
        "id": "Zx4v6_cB1Fz-"
      },
      "execution_count": 14,
      "outputs": []
    },
    {
      "cell_type": "code",
      "source": [
        "a=[1,1,3,3,5,5,7,7,9,9]\n",
        "b=[2,2,4,4,1,1,5,5,7,7]\n",
        "\n",
        "print('a-b= ',complement(a,b))\n",
        "print('b-a= ',complement(b,a))"
      ],
      "metadata": {
        "colab": {
          "base_uri": "https://localhost:8080/"
        },
        "id": "8dRYIUi92JYe",
        "outputId": "62f1bd76-7974-480d-c3c8-354a143bdebf"
      },
      "execution_count": 15,
      "outputs": [
        {
          "output_type": "stream",
          "name": "stdout",
          "text": [
            "a-b=  [9, 3]\n",
            "b-a=  [2, 4]\n"
          ]
        }
      ]
    },
    {
      "cell_type": "markdown",
      "source": [
        "# 7. Creat a union function of three or more."
      ],
      "metadata": {
        "id": "5ZJ6p0ygtGMp"
      }
    },
    {
      "cell_type": "code",
      "source": [
        "def unions(*lists):     # * allows multiple values to be accepted.\n",
        "\n",
        "    u=lists[0].copy()   # Copy the first element and put it in 'u'.\n",
        "\n",
        "    for i in lists[1:]: # Get the second element first.\n",
        "        u=union(u,i)    # Use the union function created above.\n",
        "    \n",
        "    return u"
      ],
      "metadata": {
        "id": "-8AacSva2NC2"
      },
      "execution_count": 16,
      "outputs": []
    },
    {
      "cell_type": "code",
      "source": [
        "n1=[1,1,2,2,3,3]\n",
        "n2=[4,4,5,5,6,6]\n",
        "n3=[7,7,8,8,9,9]\n",
        "n4=[0,0,123,456]\n",
        "\n",
        "numbs=unions(n1,n2,n3,n4)\n",
        "print(numbs)"
      ],
      "metadata": {
        "colab": {
          "base_uri": "https://localhost:8080/"
        },
        "id": "U9BaLp9GuWuO",
        "outputId": "5dd628d1-16a8-4d51-ba23-17c6e8e6b6ac"
      },
      "execution_count": 17,
      "outputs": [
        {
          "output_type": "stream",
          "name": "stdout",
          "text": [
            "[0, 1, 2, 3, 4, 5, 6, 7, 8, 9, 456, 123]\n"
          ]
        }
      ]
    },
    {
      "cell_type": "markdown",
      "source": [
        "# 8. Creat an intersection function of three or more."
      ],
      "metadata": {
        "id": "lPfzTAdx0qOZ"
      }
    },
    {
      "cell_type": "code",
      "source": [
        "def intersections(*lists):          \n",
        "    inter=lists[0].copy()           \n",
        "\n",
        "    for n in lists[1:]:             \n",
        "        inter=intersection(inter,n) \n",
        "    return inter"
      ],
      "metadata": {
        "id": "wUAH0Ffqu0wn"
      },
      "execution_count": 18,
      "outputs": []
    },
    {
      "cell_type": "code",
      "source": [
        "ni_1=[1,1,2,2,3,3]\n",
        "ni_2=[4,4,5,5,6,6,1,1]\n",
        "ni_3=[7,7,8,8,9,9,1]\n",
        "ni_4=[0,0,123,456,1]\n",
        "\n",
        "ni_s=intersections(ni_1,ni_2,ni_3,ni_4)\n",
        "print(ni_s)"
      ],
      "metadata": {
        "colab": {
          "base_uri": "https://localhost:8080/"
        },
        "id": "q8sTtN8q15iA",
        "outputId": "0f67f423-af3d-484d-b079-3128ae07aafb"
      },
      "execution_count": 19,
      "outputs": [
        {
          "output_type": "stream",
          "name": "stdout",
          "text": [
            "[1]\n"
          ]
        }
      ]
    },
    {
      "cell_type": "code",
      "source": [],
      "metadata": {
        "id": "jquF7BCcOc4L"
      },
      "execution_count": 19,
      "outputs": []
    }
  ]
}